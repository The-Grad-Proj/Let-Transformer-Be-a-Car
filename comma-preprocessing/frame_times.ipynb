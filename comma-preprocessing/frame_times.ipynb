{
 "cells": [
  {
   "cell_type": "code",
   "execution_count": 1,
   "metadata": {},
   "outputs": [],
   "source": [
    "dataset_chunk1_path = r\"F:\\Work\\Grad Proj Resources\\Chunk_1\"\n",
    "\n",
    "# Sample to work on\n",
    "example_segment = rf\"{dataset_chunk1_path}\\b0c9d2329ad1606b_2018-07-27--06-03-57\\3\""
   ]
  },
  {
   "cell_type": "code",
   "execution_count": 20,
   "metadata": {},
   "outputs": [],
   "source": [
    "frame_times_path = rf\"{example_segment}\\global_pose\\frame_times\"\n",
    "steering_angle_path = rf\"{example_segment}\\processed_log\\CAN\\steering_angle\\\\\""
   ]
  },
  {
   "cell_type": "code",
   "execution_count": 11,
   "metadata": {},
   "outputs": [],
   "source": [
    "import numpy as np\n",
    "import matplotlib.pyplot as plt\n",
    "import pandas as pd\n",
    "import cv2"
   ]
  },
  {
   "cell_type": "code",
   "execution_count": 12,
   "metadata": {},
   "outputs": [
    {
     "name": "stdout",
     "output_type": "stream",
     "text": [
      "(1197,)\n",
      "[9314.094931 9314.144943 9314.194964 9314.244929 9314.294969 9314.344942\n",
      " 9314.394943 9314.444926 9314.494985 9314.545013]\n"
     ]
    }
   ],
   "source": [
    "frame_times = np.load(frame_times_path)\n",
    "\n",
    "print(frame_times.shape)\n",
    "print(frame_times[:10])\n"
   ]
  },
  {
   "cell_type": "code",
   "execution_count": 25,
   "metadata": {},
   "outputs": [
    {
     "name": "stdout",
     "output_type": "stream",
     "text": [
      "Number of samples: 4973\n",
      "Steering angle: [-3.1 -3.3 -3.5 -3.6 -3.8 -3.9 -4.  -4.1 -4.1 -4.1 -4.2 -4.1 -4.2 -4.1\n",
      " -4.1 -4.1 -4.1 -4.1 -4.1 -4.1 -4.2 -4.2 -4.2 -4.2 -4.1 -4.  -4.  -3.9\n",
      " -3.9 -3.9 -3.9 -3.9 -4.  -4.1 -4.1 -4.1 -4.1 -4.  -4.  -3.9 -3.7]\n",
      "Number of samples: 4973\n",
      "Steering angle time: [9314.1602679  9314.20981259 9314.25957436 9314.30894726 9314.35895512\n",
      " 9314.40837559 9314.45609155 9314.50527879 9314.55120325 9314.5980639\n",
      " 9314.6498058 ]\n"
     ]
    }
   ],
   "source": [
    "steering_angle = np.load(steering_angle_path + 'value')\n",
    "\n",
    "# Check number of samples\n",
    "print(f\"Number of samples: {len(steering_angle)}\")\n",
    "print(f\"Steering angle: {steering_angle[0:41]}\")  # Print every 4th element from the entire array\n",
    "\n",
    "steering_angle_time = np.load(steering_angle_path + 't')\n",
    "\n",
    "print(f\"Number of samples: {len(steering_angle_time)}\")\n",
    "print(f\"Steering angle time: {steering_angle_time[0:41:4]}\")  # Print every 4th element from the entire array"
   ]
  },
  {
   "cell_type": "code",
   "execution_count": 24,
   "metadata": {},
   "outputs": [
    {
     "name": "stdout",
     "output_type": "stream",
     "text": [
      "1197\n"
     ]
    }
   ],
   "source": [
    "video_path = example_segment + rf'\\video.hevc'\n",
    "\n",
    "# Open the video file\n",
    "cap = cv2.VideoCapture(video_path)\n",
    "\n",
    "success, image = cap.read()\n",
    "count = 0\n",
    "while success:\n",
    "    success, image = cap.read()\n",
    "    count += 1\n",
    "\n",
    "# Release the video capture object\n",
    "cap.release()\n",
    "\n",
    "print(count)"
   ]
  }
 ],
 "metadata": {
  "kernelspec": {
   "display_name": "base",
   "language": "python",
   "name": "python3"
  },
  "language_info": {
   "codemirror_mode": {
    "name": "ipython",
    "version": 3
   },
   "file_extension": ".py",
   "mimetype": "text/x-python",
   "name": "python",
   "nbconvert_exporter": "python",
   "pygments_lexer": "ipython3",
   "version": "3.11.5"
  }
 },
 "nbformat": 4,
 "nbformat_minor": 2
}
