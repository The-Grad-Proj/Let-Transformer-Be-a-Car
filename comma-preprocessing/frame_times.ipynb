{
 "cells": [
  {
   "cell_type": "code",
   "execution_count": 1,
   "metadata": {},
   "outputs": [],
   "source": [
    "example_segment = '../Example_1/b0c9d2329ad1606b|2018-08-02--08-34-47/40/'\n"
   ]
  },
  {
   "cell_type": "code",
   "execution_count": 2,
   "metadata": {},
   "outputs": [],
   "source": [
    "frame_times_path = example_segment + 'global_pose/frame_times'\n",
    "steering_angle_path = example_segment + 'processed_log/CAN/steering_angle/'\n"
   ]
  },
  {
   "cell_type": "code",
   "execution_count": 3,
   "metadata": {},
   "outputs": [],
   "source": [
    "import numpy as np\n",
    "import matplotlib.pyplot as plt\n",
    "import pandas as pd\n",
    "import cv2"
   ]
  },
  {
   "cell_type": "code",
   "execution_count": 4,
   "metadata": {},
   "outputs": [
    {
     "name": "stdout",
     "output_type": "stream",
     "text": [
      "(1200,)\n",
      "[46408.547498 46408.597506 46408.647488 46408.69749  46408.747491\n",
      " 46408.797503 46408.847508 46408.89749  46408.947493 46408.997484]\n"
     ]
    }
   ],
   "source": [
    "frame_times = np.load(frame_times_path)\n",
    "\n",
    "print(frame_times.shape)\n",
    "print(frame_times[:10])\n"
   ]
  },
  {
   "cell_type": "code",
   "execution_count": 7,
   "metadata": {},
   "outputs": [
    {
     "name": "stdout",
     "output_type": "stream",
     "text": [
      "Number of samples: 4974\n",
      "Steering angle: [-0.4 -0.4 -0.4 -0.4 -0.4 -0.4 -0.4 -0.6 -0.8 -0.8 -0.8]\n",
      "Number of samples: 4974\n",
      "Steering angle time: [46408.58495885 46408.6348475  46408.68446962 46408.72891776\n",
      " 46408.77975801 46408.82944386 46408.8785588  46408.92306851\n",
      " 46408.96959109 46409.01949629 46409.06876748]\n"
     ]
    }
   ],
   "source": [
    "steering_angle = np.load(steering_angle_path + 'value')\n",
    "\n",
    "# Check number of samples\n",
    "print(f\"Number of samples: {len(steering_angle)}\")\n",
    "print(f\"Steering angle: {steering_angle[0:41:4]}\")  # Print every 4th element from the entire array\n",
    "\n",
    "steering_angle_time = np.load(steering_angle_path + 't')\n",
    "\n",
    "print(f\"Number of samples: {len(steering_angle_time)}\")\n",
    "print(f\"Steering angle time: {steering_angle_time[0:41:4]}\")  # Print every 4th element from the entire array"
   ]
  },
  {
   "cell_type": "code",
   "execution_count": 6,
   "metadata": {},
   "outputs": [
    {
     "name": "stdout",
     "output_type": "stream",
     "text": [
      "1200\n"
     ]
    }
   ],
   "source": [
    "video_path = example_segment + 'video.hevc'\n",
    "\n",
    "# Open the video file\n",
    "cap = cv2.VideoCapture(video_path)\n",
    "\n",
    "success, image = cap.read()\n",
    "count = 0\n",
    "while success:\n",
    "    success, image = cap.read()\n",
    "    count += 1\n",
    "\n",
    "# Release the video capture object\n",
    "cap.release()\n",
    "\n",
    "print(count)"
   ]
  }
 ],
 "metadata": {
  "kernelspec": {
   "display_name": "comma",
   "language": "python",
   "name": "python3"
  },
  "language_info": {
   "codemirror_mode": {
    "name": "ipython",
    "version": 3
   },
   "file_extension": ".py",
   "mimetype": "text/x-python",
   "name": "python",
   "nbconvert_exporter": "python",
   "pygments_lexer": "ipython3",
   "version": "3.11.10"
  }
 },
 "nbformat": 4,
 "nbformat_minor": 2
}
